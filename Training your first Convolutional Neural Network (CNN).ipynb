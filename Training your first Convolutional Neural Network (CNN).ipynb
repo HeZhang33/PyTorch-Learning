{
 "cells": [
  {
   "cell_type": "code",
   "execution_count": 1,
   "id": "246d603d",
   "metadata": {},
   "outputs": [],
   "source": [
    "# https://pyimagesearch.com/2021/07/19/pytorch-training-your-first-convolutional-neural-network-cnn/"
   ]
  },
  {
   "cell_type": "code",
   "execution_count": 4,
   "id": "effc9f1a",
   "metadata": {},
   "outputs": [
    {
     "name": "stdout",
     "output_type": "stream",
     "text": [
      "Torch: 1.8.2+cu102\n",
      "Torchvision: 0.9.2+cu102\n",
      "GPU: 1 Quadro RTX 3000 with Max-Q Design\n"
     ]
    }
   ],
   "source": [
    "# import the necessary packages\n",
    "import torch.nn as nn\n",
    "\n",
    "from torch.nn import Module\n",
    "from torch.nn import Conv2d\n",
    "from torch.nn import Linear\n",
    "from torch.nn import MaxPool2d\n",
    "from torch.nn import ReLU\n",
    "from torch.nn import LogSoftmax\n",
    "from torch import flatten\n",
    "from torch.optim import SGD\n",
    "from torch.optim import Adam\n",
    "\n",
    "#!pip install torchsummary\n",
    "from torchsummary import summary\n",
    "\n",
    "from torch.utils.data import random_split\n",
    "from torch.utils.data import DataLoader\n",
    "from torchvision.transforms import ToTensor\n",
    "from torchvision.datasets import KMNIST\n",
    "from sklearn.model_selection import train_test_split\n",
    "from sklearn.metrics import classification_report\n",
    "\n",
    "import cv2\n",
    "import numpy as np\n",
    "import matplotlib.pyplot as plt\n",
    "%matplotlib inline\n",
    "\n",
    "import torch\n",
    "import torchvision\n",
    "print(\"Torch:\", torch.__version__)\n",
    "print(\"Torchvision:\", torchvision.__version__)\n",
    "print(\"GPU:\", torch.cuda.device_count(), torch.cuda.get_device_name(0)) if torch.cuda.is_available() else print(\"NO GPU\")"
   ]
  },
  {
   "cell_type": "code",
   "execution_count": 5,
   "id": "59ad77df",
   "metadata": {},
   "outputs": [],
   "source": [
    "class LeNet(Module):\n",
    "    def __init__(self, numChannels, classes):\n",
    "        # call the parent constructor\n",
    "        super(LeNet, self).__init__()\n",
    "\n",
    "        # initialize first set of CONV => RELU => POOL layers\n",
    "        self.conv1 = Conv2d(in_channels=numChannels, out_channels=20, kernel_size=(5, 5))\n",
    "        self.relu1 = ReLU()\n",
    "        self.maxpool1 = MaxPool2d(kernel_size=(2, 2), stride=(2, 2))\n",
    "                                  \n",
    "        # initialize second set of CONV => RELU => POOL layers\n",
    "        self.conv2 = Conv2d(in_channels=20, out_channels=50, kernel_size=(5, 5))\n",
    "        self.relu2 = ReLU()\n",
    "        self.maxpool2 = MaxPool2d(kernel_size=(2, 2), stride=(2, 2))\n",
    "                                  \n",
    "        # initialize first (and only) set of FC => RELU layers\n",
    "        self.fc1 = Linear(in_features=800, out_features=500)\n",
    "        self.relu3 = ReLU()\n",
    "                                  \n",
    "        # initialize our softmax classifier\n",
    "        self.fc2 = Linear(in_features=500, out_features=classes)\n",
    "        self.logSoftmax = LogSoftmax(dim=1)\n",
    "        \n",
    "    def forward(self, x):\n",
    "        # pass the input through our first set of CONV => RELU => POOL layers\n",
    "        x = self.conv1(x)\n",
    "        x = self.relu1(x)\n",
    "        x = self.maxpool1(x)\n",
    "\n",
    "        # pass the output from the previous layer through the second set of CONV => RELU => POOL layers\n",
    "        x = self.conv2(x)\n",
    "        x = self.relu2(x)\n",
    "        x = self.maxpool2(x)\n",
    "\n",
    "        # flatten the output from the previous layer and pass it through our only set of FC => RELU layers\n",
    "        x = flatten(x, 1)\n",
    "        x = self.fc1(x)\n",
    "        x = self.relu3(x)\n",
    "\n",
    "        # pass the output to our softmax classifier to get our output predictions\n",
    "        x = self.fc2(x)\n",
    "        output = self.logSoftmax(x)\n",
    "\n",
    "        # return the output predictions\n",
    "        return output"
   ]
  },
  {
   "cell_type": "code",
   "execution_count": 11,
   "id": "e759fc6d",
   "metadata": {},
   "outputs": [
    {
     "data": {
      "text/plain": [
       "device(type='cuda')"
      ]
     },
     "execution_count": 11,
     "metadata": {},
     "output_type": "execute_result"
    }
   ],
   "source": [
    "# define training hyperparameters\n",
    "INIT_LR = 1e-3\n",
    "BATCH_SIZE = 64\n",
    "EPOCHS = 10\n",
    "\n",
    "# define the train and val splits\n",
    "TRAIN_SPLIT = 0.75\n",
    "VAL_SPLIT = 1 - TRAIN_SPLIT\n",
    "\n",
    "# set the device we will be using to train the model\n",
    "device = torch.device(\"cuda\" if torch.cuda.is_available() else \"cpu\")\n",
    "device"
   ]
  },
  {
   "cell_type": "code",
   "execution_count": 12,
   "id": "e336445a",
   "metadata": {},
   "outputs": [
    {
     "name": "stdout",
     "output_type": "stream",
     "text": [
      "[INFO] loading the KMNIST dataset...\n",
      "Downloading http://codh.rois.ac.jp/kmnist/dataset/kmnist/train-images-idx3-ubyte.gz\n",
      "Downloading http://codh.rois.ac.jp/kmnist/dataset/kmnist/train-images-idx3-ubyte.gz to data\\KMNIST\\raw\\train-images-idx3-ubyte.gz\n"
     ]
    },
    {
     "data": {
      "application/vnd.jupyter.widget-view+json": {
       "model_id": "4a250e11cada4b9aaf199d80b595b496",
       "version_major": 2,
       "version_minor": 0
      },
      "text/plain": [
       "  0%|          | 0/18165135 [00:00<?, ?it/s]"
      ]
     },
     "metadata": {},
     "output_type": "display_data"
    },
    {
     "name": "stdout",
     "output_type": "stream",
     "text": [
      "Extracting data\\KMNIST\\raw\\train-images-idx3-ubyte.gz to data\\KMNIST\\raw\n",
      "\n",
      "Downloading http://codh.rois.ac.jp/kmnist/dataset/kmnist/train-labels-idx1-ubyte.gz\n",
      "Downloading http://codh.rois.ac.jp/kmnist/dataset/kmnist/train-labels-idx1-ubyte.gz to data\\KMNIST\\raw\\train-labels-idx1-ubyte.gz\n"
     ]
    },
    {
     "data": {
      "application/vnd.jupyter.widget-view+json": {
       "model_id": "8fe5de316c894d0885b9f7b2331592f5",
       "version_major": 2,
       "version_minor": 0
      },
      "text/plain": [
       "  0%|          | 0/29497 [00:00<?, ?it/s]"
      ]
     },
     "metadata": {},
     "output_type": "display_data"
    },
    {
     "name": "stdout",
     "output_type": "stream",
     "text": [
      "Extracting data\\KMNIST\\raw\\train-labels-idx1-ubyte.gz to data\\KMNIST\\raw\n",
      "\n",
      "Downloading http://codh.rois.ac.jp/kmnist/dataset/kmnist/t10k-images-idx3-ubyte.gz\n",
      "Downloading http://codh.rois.ac.jp/kmnist/dataset/kmnist/t10k-images-idx3-ubyte.gz to data\\KMNIST\\raw\\t10k-images-idx3-ubyte.gz\n"
     ]
    },
    {
     "data": {
      "application/vnd.jupyter.widget-view+json": {
       "model_id": "91a3052102e141d59fd75d3ad3a1156b",
       "version_major": 2,
       "version_minor": 0
      },
      "text/plain": [
       "  0%|          | 0/3041136 [00:00<?, ?it/s]"
      ]
     },
     "metadata": {},
     "output_type": "display_data"
    },
    {
     "name": "stdout",
     "output_type": "stream",
     "text": [
      "Extracting data\\KMNIST\\raw\\t10k-images-idx3-ubyte.gz to data\\KMNIST\\raw\n",
      "\n",
      "Downloading http://codh.rois.ac.jp/kmnist/dataset/kmnist/t10k-labels-idx1-ubyte.gz\n",
      "Downloading http://codh.rois.ac.jp/kmnist/dataset/kmnist/t10k-labels-idx1-ubyte.gz to data\\KMNIST\\raw\\t10k-labels-idx1-ubyte.gz\n"
     ]
    },
    {
     "data": {
      "application/vnd.jupyter.widget-view+json": {
       "model_id": "12f1c5f93dc44e5998821f9807ecdc82",
       "version_major": 2,
       "version_minor": 0
      },
      "text/plain": [
       "  0%|          | 0/5120 [00:00<?, ?it/s]"
      ]
     },
     "metadata": {},
     "output_type": "display_data"
    },
    {
     "name": "stdout",
     "output_type": "stream",
     "text": [
      "Extracting data\\KMNIST\\raw\\t10k-labels-idx1-ubyte.gz to data\\KMNIST\\raw\n",
      "\n",
      "Processing...\n"
     ]
    },
    {
     "name": "stderr",
     "output_type": "stream",
     "text": [
      "C:\\Users\\zhanghe\\Anaconda3\\envs\\yolov6_v3\\lib\\site-packages\\torchvision\\datasets\\mnist.py:502: UserWarning: The given NumPy array is not writeable, and PyTorch does not support non-writeable tensors. This means you can write to the underlying (supposedly non-writeable) NumPy array using the tensor. You may want to copy the array to protect its data or make it writeable before converting it to a tensor. This type of warning will be suppressed for the rest of this program. (Triggered internally at  ..\\torch\\csrc\\utils\\tensor_numpy.cpp:143.)\n",
      "  return torch.from_numpy(parsed.astype(m[2], copy=False)).view(*s)\n"
     ]
    },
    {
     "name": "stdout",
     "output_type": "stream",
     "text": [
      "Done!\n"
     ]
    }
   ],
   "source": [
    "# load the KMNIST dataset\n",
    "print(\"[INFO] loading the KMNIST dataset...\")\n",
    "trainData = KMNIST(root=\"data\", train=True, download=True, transform=ToTensor())\n",
    "testData = KMNIST(root=\"data\", train=False, download=True, transform=ToTensor())"
   ]
  },
  {
   "cell_type": "code",
   "execution_count": 16,
   "id": "36134923",
   "metadata": {},
   "outputs": [
    {
     "data": {
      "text/plain": [
       "Dataset KMNIST\n",
       "    Number of datapoints: 60000\n",
       "    Root location: data\n",
       "    Split: Train\n",
       "    StandardTransform\n",
       "Transform: ToTensor()"
      ]
     },
     "execution_count": 16,
     "metadata": {},
     "output_type": "execute_result"
    }
   ],
   "source": [
    "# show train Dataset\n",
    "trainData"
   ]
  },
  {
   "cell_type": "code",
   "execution_count": 17,
   "id": "aac934c0",
   "metadata": {},
   "outputs": [
    {
     "name": "stdout",
     "output_type": "stream",
     "text": [
      "[INFO] generating the train/validation split...\n"
     ]
    }
   ],
   "source": [
    "# calculate the train/validation split\n",
    "print(\"[INFO] generating the train/validation split...\")\n",
    "numTrainSamples = int(len(trainData) * TRAIN_SPLIT)\n",
    "numValSamples = int(len(trainData) * VAL_SPLIT)\n",
    "(trainData, valData) = random_split(trainData, [numTrainSamples, numValSamples], generator=torch.Generator().manual_seed(42))"
   ]
  },
  {
   "cell_type": "code",
   "execution_count": 22,
   "id": "be6a903b",
   "metadata": {},
   "outputs": [
    {
     "data": {
      "text/plain": [
       "<torch.utils.data.dataset.Subset at 0x2725125cc10>"
      ]
     },
     "execution_count": 22,
     "metadata": {},
     "output_type": "execute_result"
    }
   ],
   "source": [
    "# show train Dataset subset\n",
    "trainData"
   ]
  },
  {
   "cell_type": "code",
   "execution_count": 23,
   "id": "7f71a8b5",
   "metadata": {},
   "outputs": [
    {
     "name": "stdout",
     "output_type": "stream",
     "text": [
      "703 234\n"
     ]
    }
   ],
   "source": [
    "trainDataLoader = DataLoader(trainData, shuffle=True, batch_size=BATCH_SIZE)\n",
    "valDataLoader = DataLoader(valData, batch_size=BATCH_SIZE)\n",
    "testDataLoader = DataLoader(testData, batch_size=BATCH_SIZE)\n",
    "\n",
    "# calculate steps per epoch for training and validation set\n",
    "trainSteps = len(trainDataLoader.dataset) // BATCH_SIZE\n",
    "valSteps = len(valDataLoader.dataset) // BATCH_SIZE\n",
    "\n",
    "print(trainSteps, valSteps)"
   ]
  },
  {
   "cell_type": "code",
   "execution_count": 51,
   "id": "6245d3c8",
   "metadata": {},
   "outputs": [
    {
     "name": "stdout",
     "output_type": "stream",
     "text": [
      "[INFO] initializing the LeNet model...\n"
     ]
    },
    {
     "data": {
      "text/plain": [
       "LeNet(\n",
       "  (conv1): Conv2d(1, 20, kernel_size=(5, 5), stride=(1, 1))\n",
       "  (relu1): ReLU()\n",
       "  (maxpool1): MaxPool2d(kernel_size=(2, 2), stride=(2, 2), padding=0, dilation=1, ceil_mode=False)\n",
       "  (conv2): Conv2d(20, 50, kernel_size=(5, 5), stride=(1, 1))\n",
       "  (relu2): ReLU()\n",
       "  (maxpool2): MaxPool2d(kernel_size=(2, 2), stride=(2, 2), padding=0, dilation=1, ceil_mode=False)\n",
       "  (fc1): Linear(in_features=800, out_features=500, bias=True)\n",
       "  (relu3): ReLU()\n",
       "  (fc2): Linear(in_features=500, out_features=10, bias=True)\n",
       "  (logSoftmax): LogSoftmax(dim=1)\n",
       ")"
      ]
     },
     "execution_count": 51,
     "metadata": {},
     "output_type": "execute_result"
    }
   ],
   "source": [
    "# initialize the LeNet model\n",
    "print(\"[INFO] initializing the LeNet model...\")\n",
    "model = LeNet(numChannels=1, classes=len(trainData.dataset.classes)).to(device)\n",
    "model"
   ]
  },
  {
   "cell_type": "code",
   "execution_count": 52,
   "id": "4d69e7a9",
   "metadata": {},
   "outputs": [
    {
     "name": "stdout",
     "output_type": "stream",
     "text": [
      "----------------------------------------------------------------\n",
      "        Layer (type)               Output Shape         Param #\n",
      "================================================================\n",
      "            Conv2d-1           [-1, 20, 24, 24]             520\n",
      "              ReLU-2           [-1, 20, 24, 24]               0\n",
      "         MaxPool2d-3           [-1, 20, 12, 12]               0\n",
      "            Conv2d-4             [-1, 50, 8, 8]          25,050\n",
      "              ReLU-5             [-1, 50, 8, 8]               0\n",
      "         MaxPool2d-6             [-1, 50, 4, 4]               0\n",
      "            Linear-7                  [-1, 500]         400,500\n",
      "              ReLU-8                  [-1, 500]               0\n",
      "            Linear-9                   [-1, 10]           5,010\n",
      "       LogSoftmax-10                   [-1, 10]               0\n",
      "================================================================\n",
      "Total params: 431,080\n",
      "Trainable params: 431,080\n",
      "Non-trainable params: 0\n",
      "----------------------------------------------------------------\n",
      "Input size (MB): 0.00\n",
      "Forward/backward pass size (MB): 0.26\n",
      "Params size (MB): 1.64\n",
      "Estimated Total Size (MB): 1.91\n",
      "----------------------------------------------------------------\n"
     ]
    }
   ],
   "source": [
    "# check Pytorch model summary \n",
    "# note by He Zhang: input must be (1, 28, 28) as that makes flattened dim = 800, matching the input of the following fc1 layer!!!\n",
    "summary(model, input_size=(1, 28, 28))"
   ]
  },
  {
   "cell_type": "code",
   "execution_count": 56,
   "id": "b8f73f0e",
   "metadata": {},
   "outputs": [],
   "source": [
    "# initialize our optimizer and loss function\n",
    "opt = Adam(model.parameters(), lr=INIT_LR)\n",
    "lossFn = nn.NLLLoss()\n",
    "\n",
    "# initialize a dictionary to store training history\n",
    "H = {\n",
    "    \"train_loss\": [],\n",
    "    \"train_acc\": [],\n",
    "    \"val_loss\": [],\n",
    "    \"val_acc\": []\n",
    "}"
   ]
  },
  {
   "cell_type": "code",
   "execution_count": 70,
   "id": "e101ab61",
   "metadata": {},
   "outputs": [
    {
     "name": "stdout",
     "output_type": "stream",
     "text": [
      "[INFO] EPOCH: 1/10\n",
      "Train loss: 0.342923, Train accuracy: 0.8952\n",
      "Val loss: 0.167156, Val accuracy: 0.9492\n",
      "\n",
      "[INFO] EPOCH: 2/10\n",
      "Train loss: 0.098809, Train accuracy: 0.9705\n",
      "Val loss: 0.105555, Val accuracy: 0.9685\n",
      "\n",
      "[INFO] EPOCH: 3/10\n",
      "Train loss: 0.057815, Train accuracy: 0.9824\n",
      "Val loss: 0.087579, Val accuracy: 0.9739\n",
      "\n",
      "[INFO] EPOCH: 4/10\n",
      "Train loss: 0.039498, Train accuracy: 0.9874\n",
      "Val loss: 0.077706, Val accuracy: 0.9783\n",
      "\n",
      "[INFO] EPOCH: 5/10\n",
      "Train loss: 0.025001, Train accuracy: 0.9921\n",
      "Val loss: 0.078724, Val accuracy: 0.9785\n",
      "\n",
      "[INFO] EPOCH: 6/10\n",
      "Train loss: 0.018695, Train accuracy: 0.9944\n",
      "Val loss: 0.085590, Val accuracy: 0.9785\n",
      "\n",
      "[INFO] EPOCH: 7/10\n",
      "Train loss: 0.015118, Train accuracy: 0.9947\n",
      "Val loss: 0.094584, Val accuracy: 0.9779\n",
      "\n",
      "[INFO] EPOCH: 8/10\n",
      "Train loss: 0.015546, Train accuracy: 0.9948\n",
      "Val loss: 0.076153, Val accuracy: 0.9813\n",
      "\n",
      "[INFO] EPOCH: 9/10\n",
      "Train loss: 0.011419, Train accuracy: 0.9962\n",
      "Val loss: 0.080829, Val accuracy: 0.9815\n",
      "\n",
      "[INFO] EPOCH: 10/10\n",
      "Train loss: 0.008970, Train accuracy: 0.9972\n",
      "Val loss: 0.086038, Val accuracy: 0.9821\n",
      "\n"
     ]
    }
   ],
   "source": [
    "%%time\n",
    "# loop over our epochs\n",
    "for e in range(0, EPOCHS):\n",
    "    # set the model in training mode\n",
    "    model.train()\n",
    "    \n",
    "    # initialize the total training and validation loss\n",
    "    totalTrainLoss = 0\n",
    "    totalValLoss = 0\n",
    "    \n",
    "    # initialize the number of correct predictions in the training and validation step\n",
    "    trainCorrect = 0\n",
    "    valCorrect = 0\n",
    "    \n",
    "    # loop over the training set\n",
    "    for (x, y) in trainDataLoader:\n",
    "        # send the input to the device\n",
    "        (x, y) = (x.to(device), y.to(device))\n",
    "        \n",
    "        # perform a forward pass and calculate the training loss\n",
    "        pred = model(x)\n",
    "        loss = lossFn(pred, y)\n",
    "       \n",
    "        # zero out the gradients, perform the backpropagation step, and update the weights\n",
    "        opt.zero_grad()\n",
    "        loss.backward()\n",
    "        opt.step()\n",
    "        \n",
    "        # add the loss to the total training loss so far and calculate the number of correct predictions\n",
    "        totalTrainLoss += loss\n",
    "        trainCorrect += (pred.argmax(1) == y).type(\n",
    "            torch.float).sum().item()\n",
    "        \n",
    "    # switch off autograd for evaluation\n",
    "    with torch.no_grad():\n",
    "        # set the model in evaluation mode\n",
    "        model.eval()\n",
    "        \n",
    "        # loop over the validation set\n",
    "        for (x, y) in valDataLoader:\n",
    "            \n",
    "            # send the input to the device\n",
    "            (x, y) = (x.to(device), y.to(device))\n",
    "            \n",
    "            # make the predictions and calculate the validation loss\n",
    "            pred = model(x)\n",
    "            totalValLoss += lossFn(pred, y)\n",
    "            \n",
    "            # calculate the number of correct predictions\n",
    "            valCorrect += (pred.argmax(1) == y).type(torch.float).sum().item()\n",
    "      \n",
    "    # calculate the average training and validation loss\n",
    "    avgTrainLoss = totalTrainLoss / trainSteps\n",
    "    avgValLoss = totalValLoss / valSteps\n",
    "    \n",
    "    # calculate the training and validation accuracy\n",
    "    trainCorrect = trainCorrect / len(trainDataLoader.dataset)\n",
    "    valCorrect = valCorrect / len(valDataLoader.dataset)\n",
    "    \n",
    "    # update our training history\n",
    "    H[\"train_loss\"].append(avgTrainLoss.cpu().detach().numpy())\n",
    "    H[\"train_acc\"].append(trainCorrect)\n",
    "    H[\"val_loss\"].append(avgValLoss.cpu().detach().numpy())\n",
    "    H[\"val_acc\"].append(valCorrect)\n",
    "    \n",
    "    # print the model training and validation information\n",
    "    print(\"[INFO] EPOCH: {}/{}\".format(e + 1, EPOCHS))\n",
    "    print(\"Train loss: {:.6f}, Train accuracy: {:.4f}\".format(avgTrainLoss, trainCorrect))\n",
    "    print(\"Val loss: {:.6f}, Val accuracy: {:.4f}\\n\".format(avgValLoss, valCorrect))"
   ]
  },
  {
   "cell_type": "code",
   "execution_count": 72,
   "id": "b3844a88",
   "metadata": {},
   "outputs": [
    {
     "name": "stdout",
     "output_type": "stream",
     "text": [
      "[INFO] evaluating network...\n"
     ]
    },
    {
     "data": {
      "text/plain": [
       "[2, 9, 3, 8, 3]"
      ]
     },
     "execution_count": 72,
     "metadata": {},
     "output_type": "execute_result"
    }
   ],
   "source": [
    "# we can now evaluate the network on the test set\n",
    "print(\"[INFO] evaluating network...\")\n",
    "# turn off autograd for testing evaluation\n",
    "with torch.no_grad():\n",
    "    # set the model in evaluation mode\n",
    "    model.eval()\n",
    "    \n",
    "    # initialize a list to store our predictions\n",
    "    preds = []\n",
    "    # loop over the test set\n",
    "    for (x, y) in testDataLoader:\n",
    "        # send the input to the device\n",
    "        x = x.to(device)\n",
    "        # make the predictions and add them to the list\n",
    "        pred = model(x)\n",
    "        preds.extend(pred.argmax(axis=1).cpu().numpy())\n",
    "\n",
    "preds[:5]"
   ]
  },
  {
   "cell_type": "code",
   "execution_count": 74,
   "id": "f262d2b8",
   "metadata": {},
   "outputs": [
    {
     "name": "stdout",
     "output_type": "stream",
     "text": [
      "              precision    recall  f1-score   support\n",
      "\n",
      "           o       0.95      0.95      0.95      1000\n",
      "          ki       0.91      0.95      0.93      1000\n",
      "          su       0.95      0.93      0.94      1000\n",
      "         tsu       0.93      0.98      0.96      1000\n",
      "          na       0.95      0.94      0.95      1000\n",
      "          ha       0.97      0.93      0.95      1000\n",
      "          ma       0.96      0.95      0.95      1000\n",
      "          ya       0.95      0.98      0.96      1000\n",
      "          re       0.96      0.96      0.96      1000\n",
      "          wo       0.98      0.95      0.96      1000\n",
      "\n",
      "    accuracy                           0.95     10000\n",
      "   macro avg       0.95      0.95      0.95     10000\n",
      "weighted avg       0.95      0.95      0.95     10000\n",
      "\n"
     ]
    }
   ],
   "source": [
    "# generate a classification report\n",
    "print(classification_report(testData.targets.cpu().numpy(), np.array(preds), target_names=testData.classes))"
   ]
  },
  {
   "cell_type": "code",
   "execution_count": 90,
   "id": "b8fef802",
   "metadata": {},
   "outputs": [
    {
     "data": {
      "image/png": "[encoded data removed]",
      "text/plain": [
       "<Figure size 936x504 with 1 Axes>"
      ]
     },
     "metadata": {},
     "output_type": "display_data"
    }
   ],
   "source": [
    "# plot the training loss and accuracy\n",
    "plt.style.use(\"ggplot\")\n",
    "plt.figure(figsize=(13, 7))\n",
    "plt.plot(H[\"train_loss\"], label=\"train_loss\")\n",
    "plt.plot(H[\"val_loss\"], label=\"val_loss\")\n",
    "plt.plot(H[\"train_acc\"], label=\"train_acc\")\n",
    "plt.plot(H[\"val_acc\"], label=\"val_acc\")\n",
    "plt.title(\"Training Loss and Accuracy on Dataset\")\n",
    "plt.xlabel(\"Epoch #\")\n",
    "plt.ylabel(\"Loss/Accuracy\")\n",
    "plt.legend(loc=\"lower left\")\n",
    "plt.savefig(\"./outputs/history.png\")"
   ]
  },
  {
   "cell_type": "code",
   "execution_count": 87,
   "id": "af22a063",
   "metadata": {},
   "outputs": [],
   "source": [
    "# serialize the model to disk\n",
    "torch.save(model, \"outputs/model.pth\")"
   ]
  },
  {
   "cell_type": "code",
   "execution_count": null,
   "id": "83cd28ac",
   "metadata": {},
   "outputs": [],
   "source": []
  },
  {
   "cell_type": "code",
   "execution_count": null,
   "id": "98ee3093",
   "metadata": {},
   "outputs": [],
   "source": []
  },
  {
   "cell_type": "code",
   "execution_count": 91,
   "id": "d8a98ad3",
   "metadata": {},
   "outputs": [],
   "source": [
    "# make predictions using the saved trained model"
   ]
  },
  {
   "cell_type": "code",
   "execution_count": 6,
   "id": "3e976aa7",
   "metadata": {},
   "outputs": [],
   "source": [
    "# import the necessary packages\n",
    "import cv2\n",
    "import torch\n",
    "import imutils\n",
    "import numpy as np\n",
    "np.random.seed(42)\n",
    "\n",
    "from torch.utils.data import DataLoader\n",
    "from torch.utils.data import Subset\n",
    "from torchvision.transforms import ToTensor\n",
    "from torchvision.datasets import KMNIST"
   ]
  },
  {
   "cell_type": "code",
   "execution_count": 7,
   "id": "affa5261",
   "metadata": {},
   "outputs": [
    {
     "name": "stdout",
     "output_type": "stream",
     "text": [
      "[INFO] loading the KMNIST test dataset...\n"
     ]
    },
    {
     "data": {
      "text/plain": [
       "LeNet(\n",
       "  (conv1): Conv2d(1, 20, kernel_size=(5, 5), stride=(1, 1))\n",
       "  (relu1): ReLU()\n",
       "  (maxpool1): MaxPool2d(kernel_size=(2, 2), stride=(2, 2), padding=0, dilation=1, ceil_mode=False)\n",
       "  (conv2): Conv2d(20, 50, kernel_size=(5, 5), stride=(1, 1))\n",
       "  (relu2): ReLU()\n",
       "  (maxpool2): MaxPool2d(kernel_size=(2, 2), stride=(2, 2), padding=0, dilation=1, ceil_mode=False)\n",
       "  (fc1): Linear(in_features=800, out_features=500, bias=True)\n",
       "  (relu3): ReLU()\n",
       "  (fc2): Linear(in_features=500, out_features=10, bias=True)\n",
       "  (logSoftmax): LogSoftmax(dim=1)\n",
       ")"
      ]
     },
     "execution_count": 7,
     "metadata": {},
     "output_type": "execute_result"
    }
   ],
   "source": [
    "# set the device we will be using to test the model\n",
    "device = torch.device(\"cuda\" if torch.cuda.is_available() else \"cpu\")\n",
    "\n",
    "# load the KMNIST dataset and randomly grab 10 data points\n",
    "print(\"[INFO] loading the KMNIST test dataset...\")\n",
    "testData = KMNIST(root=\"data\", train=False, download=True, transform=ToTensor())\n",
    "idxs = np.random.choice(range(0, len(testData)), size=(10,))\n",
    "testData = Subset(testData, idxs)\n",
    "\n",
    "# initialize the test data loader\n",
    "testDataLoader = DataLoader(testData, batch_size=1)\n",
    "\n",
    "# load the model and set it to evaluation mode\n",
    "model = torch.load(\"./outputs/model.pth\").to(device)\n",
    "model.eval()"
   ]
  },
  {
   "cell_type": "code",
   "execution_count": 10,
   "id": "2f06f77e",
   "metadata": {},
   "outputs": [
    {
     "name": "stdout",
     "output_type": "stream",
     "text": [
      "[INFO] ground truth label: ki, predicted label: ki\n",
      "[INFO] ground truth label: ki, predicted label: ki\n",
      "[INFO] ground truth label: ki, predicted label: ki\n",
      "[INFO] ground truth label: ha, predicted label: ha\n",
      "[INFO] ground truth label: tsu, predicted label: tsu\n",
      "[INFO] ground truth label: ya, predicted label: ya\n",
      "[INFO] ground truth label: tsu, predicted label: tsu\n",
      "[INFO] ground truth label: na, predicted label: na\n",
      "[INFO] ground truth label: ki, predicted label: ki\n",
      "[INFO] ground truth label: tsu, predicted label: tsu\n"
     ]
    }
   ],
   "source": [
    "# switch off autograd\n",
    "with torch.no_grad():\n",
    "    # loop over the test set\n",
    "    for (image, label) in testDataLoader:\n",
    "        # grab the original image and ground truth label\n",
    "        origImage = image.numpy().squeeze(axis=(0, 1))\n",
    "        gtLabel = testData.dataset.classes[label.numpy()[0]]\n",
    "        \n",
    "        # send the input to the device and make predictions on it\n",
    "        image = image.to(device)\n",
    "        pred = model(image)\n",
    "        \n",
    "        # find the class label index with the largest corresponding probability\n",
    "        idx = pred.argmax(axis=1).cpu().numpy()[0]\n",
    "        predLabel = testData.dataset.classes[idx]\n",
    "\n",
    "        # convert the image from grayscale to RGB (so we can draw on it) \n",
    "        # and resize it (so we can more easily see it on our screen)\n",
    "        origImage = np.dstack([origImage] * 3)\n",
    "        origImage = imutils.resize(origImage, width=128)\n",
    "\n",
    "        # draw the predicted class label on it\n",
    "        color = (0, 255, 0) if gtLabel == predLabel else (0, 0, 255)\n",
    "        cv2.putText(origImage, gtLabel, (2, 25), cv2.FONT_HERSHEY_SIMPLEX, 0.95, color, 2)\n",
    "\n",
    "        # display the result in terminal and show the input image\n",
    "        print(\"[INFO] ground truth label: {}, predicted label: {}\".format(gtLabel, predLabel))\n",
    "        cv2.imshow(\"image\", origImage)\n",
    "        cv2.waitKey(0)"
   ]
  },
  {
   "cell_type": "code",
   "execution_count": null,
   "id": "ddd24098",
   "metadata": {},
   "outputs": [],
   "source": []
  },
  {
   "cell_type": "code",
   "execution_count": null,
   "id": "f51a5289",
   "metadata": {},
   "outputs": [],
   "source": []
  }
 ],
 "metadata": {
  "kernelspec": {
   "display_name": "Python 3 (ipykernel)",
   "language": "python",
   "name": "python3"
  },
  "language_info": {
   "codemirror_mode": {
    "name": "ipython",
    "version": 3
   },
   "file_extension": ".py",
   "mimetype": "text/x-python",
   "name": "python",
   "nbconvert_exporter": "python",
   "pygments_lexer": "ipython3",
   "version": "3.9.7"
  }
 },
 "nbformat": 4,
 "nbformat_minor": 5
}
